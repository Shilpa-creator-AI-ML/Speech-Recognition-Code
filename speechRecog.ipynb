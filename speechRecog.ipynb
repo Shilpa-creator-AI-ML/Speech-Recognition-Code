{
 "cells": [
  {
   "cell_type": "code",
   "execution_count": 3,
   "id": "38261dd2-bb6f-48c3-985d-536865373f49",
   "metadata": {},
   "outputs": [
    {
     "name": "stdout",
     "output_type": "stream",
     "text": [
      " Silence please\n",
      " Speak now please....\n",
      "Sorry, I could not understand what you said.\n"
     ]
    }
   ],
   "source": [
    "import speech_recognition\n",
    "import pyttsx3\n",
    "\n",
    "def SpeakNow(command):\n",
    "    voice = pyttsx3.init()\n",
    "    voice.say(command)\n",
    "    voice.runAndWait()\n",
    "\n",
    "sr = speech_recognition.Recognizer()\n",
    "\n",
    "with speech_recognition.Microphone() as source2:\n",
    "    print(\" Silence please\")\n",
    "    \n",
    "    sr.adjust_for_ambient_noise(source2, duration = 2)\n",
    "\n",
    "    print(\" Speak now please....\")\n",
    "    \n",
    "    audio2 = sr.listen(source2)\n",
    "    \n",
    "    try:\n",
    "        textt = sr.recognize_google(audio2)\n",
    "        textt = textt.lower()\n",
    "        print(\" Did you say :- \" + textt)\n",
    "        SpeakNow(textt)\n",
    "\n",
    "    except speech_recognition.UnknownValueError:\n",
    "        print(\"Sorry, I could not understand what you said.\")\n",
    "        SpeakNow(\"Sorry, I could not understand what you said.\")\n",
    "\n",
    "    except speech_recognition.RequestError as e:\n",
    "        print(\"Could not request results; {0}\".format(e))\n",
    "        SpeakNow(\"There was a problem reaching Google\")"
   ]
  },
  {
   "cell_type": "code",
   "execution_count": null,
   "id": "63f419e9-fbe6-40f2-a3ee-5a775b17a929",
   "metadata": {},
   "outputs": [],
   "source": []
  }
 ],
 "metadata": {
  "kernelspec": {
   "display_name": "Python 3 (ipykernel)",
   "language": "python",
   "name": "python3"
  },
  "language_info": {
   "codemirror_mode": {
    "name": "ipython",
    "version": 3
   },
   "file_extension": ".py",
   "mimetype": "text/x-python",
   "name": "python",
   "nbconvert_exporter": "python",
   "pygments_lexer": "ipython3",
   "version": "3.10.0"
  }
 },
 "nbformat": 4,
 "nbformat_minor": 5
}
