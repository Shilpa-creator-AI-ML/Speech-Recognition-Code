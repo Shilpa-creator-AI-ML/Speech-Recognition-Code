{
 "cells": [
  {
   "cell_type": "code",
   "execution_count": 15,
   "id": "b5f75b89-0b59-4665-b581-2a0987db81d6",
   "metadata": {},
   "outputs": [
    {
     "name": "stdout",
     "output_type": "stream",
     "text": [
      "Please say something to open.....\n",
      " Hearing....\n",
      "you asked to open : Garena free fire.com\n"
     ]
    }
   ],
   "source": [
    "import speech_recognition\n",
    "import pyttsx3\n",
    "import webbrowser\n",
    "\n",
    "if __name__ == \"__main__\":\n",
    "    path = \"C:/Program Files (x86)/Microsoft/Edge/Application/msedge.exe %s\"\n",
    "    \n",
    "    sr = speech_recognition.Recognizer()\n",
    "    \n",
    "    with speech_recognition.Microphone() as source:\n",
    "        sr.adjust_for_ambient_noise(source)\n",
    "        print(\"Please say website name to open.....\")\n",
    "        \n",
    "        audio = sr.listen(source)\n",
    "        print(\" Hearing....\")\n",
    "        \n",
    "        try:\n",
    "            destination = sr.recognize_google(audio)\n",
    "            print(\"you asked to open : \" + destination)\n",
    "            \n",
    "            webbrowser.get(path).open(destination)\n",
    "        \n",
    "        except Exception as e:\n",
    "            print(\"error : \" + str(e))"
   ]
  },
  {
   "cell_type": "code",
   "execution_count": null,
   "id": "c502df02-0d8d-41b5-88fd-a07c8a226cce",
   "metadata": {},
   "outputs": [],
   "source": []
  }
 ],
 "metadata": {
  "kernelspec": {
   "display_name": "Python 3 (ipykernel)",
   "language": "python",
   "name": "python3"
  },
  "language_info": {
   "codemirror_mode": {
    "name": "ipython",
    "version": 3
   },
   "file_extension": ".py",
   "mimetype": "text/x-python",
   "name": "python",
   "nbconvert_exporter": "python",
   "pygments_lexer": "ipython3",
   "version": "3.10.0"
  }
 },
 "nbformat": 4,
 "nbformat_minor": 5
}
